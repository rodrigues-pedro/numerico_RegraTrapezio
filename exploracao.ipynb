{
 "metadata": {
  "language_info": {
   "codemirror_mode": {
    "name": "ipython",
    "version": 3
   },
   "file_extension": ".py",
   "mimetype": "text/x-python",
   "name": "python",
   "nbconvert_exporter": "python",
   "pygments_lexer": "ipython3",
   "version": "3.8.3-final"
  },
  "orig_nbformat": 2,
  "kernelspec": {
   "name": "python3",
   "display_name": "Python 3"
  }
 },
 "nbformat": 4,
 "nbformat_minor": 2,
 "cells": [
  {
   "source": [
    "import pandas as pd\n",
    "import numpy as np\n",
    "import matplotlib.pyplot as plt\n",
    "from sympy import *\n",
    "from pylab import rcParams\n"
   ],
   "cell_type": "code",
   "metadata": {},
   "execution_count": 24,
   "outputs": []
  },
  {
   "cell_type": "code",
   "execution_count": 30,
   "metadata": {},
   "outputs": [],
   "source": [
    "#Tamanho plot\n",
    "rcParams['figure.figsize'] = 17, 9\n",
    "\n",
    "x = symbols('x')"
   ]
  },
  {
   "cell_type": "code",
   "execution_count": 37,
   "metadata": {},
   "outputs": [],
   "source": [
    "def graficoPlot(func, x_o, x_f):\n",
    "    fig, ax = plt.subplots()\n",
    "\n",
    "    xx = np.linspace(x_o, x_f, 1000)\n",
    "    yy = lambdify(x, func, \"numpy\")(xx)\n",
    "    ax.plot(xx, np.transpose(yy))\n",
    "\n",
    "    ax.set_title('Função - {}'.format(str(func)))\n",
    "    ax.set_ylabel('y')\n",
    "    ax.set_xlabel('x')"
   ]
  },
  {
   "cell_type": "code",
   "execution_count": 38,
   "metadata": {},
   "outputs": [],
   "source": [
    "def interpoladoLagrange(x, y):\n",
    "    poli = 0*w \n",
    "    for i in range(len(x)):\n",
    "        Li = 1 + 0*w\n",
    "        for j in x:\n",
    "            if j != x[i]:\n",
    "                Li = Li * ((w - j)/(x[i] - j))\n",
    "        poli = poli + y[i] * Li\n",
    "    return expand(poli)"
   ]
  },
  {
   "cell_type": "code",
   "execution_count": 45,
   "metadata": {},
   "outputs": [],
   "source": [
    "def trapezioPlot(func, x_o, x_f, n):\n",
    "    graficoPlot(func, x_o, x_f)\n",
    "    h = (x_f - x_o)/n\n",
    "    x_i = x_o\n",
    "    for i in range(n):\n",
    "        x_h = x_i + h\n",
    "        dados = pd.DataFrame({'x': [x_i, x_i + h],\n",
    "                              'y': [(func.subs(x, x_i)).evalf(), (func.subs(x, x_h)).evalf()]})\n",
    "        reta = interpoladoLagrange(dados['x'], dados['y'])\n",
    "        graficoPlot(reta, x_i, x_i + h)\n",
    "        x_i = x_i + h\n"
   ]
  },
  {
   "cell_type": "code",
   "execution_count": 46,
   "metadata": {},
   "outputs": [
    {
     "output_type": "error",
     "ename": "TypeError",
     "evalue": "'module' object is not callable",
     "traceback": [
      "\u001b[1;31m---------------------------------------------------------------------------\u001b[0m",
      "\u001b[1;31mTypeError\u001b[0m                                 Traceback (most recent call last)",
      "\u001b[1;32m<ipython-input-46-881dee45e96d>\u001b[0m in \u001b[0;36m<module>\u001b[1;34m\u001b[0m\n\u001b[1;32m----> 1\u001b[1;33m \u001b[0mtrapezioPlot\u001b[0m\u001b[1;33m(\u001b[0m\u001b[0mfunc\u001b[0m\u001b[1;33m,\u001b[0m \u001b[1;36m2\u001b[0m\u001b[1;33m,\u001b[0m \u001b[1;36m4\u001b[0m\u001b[1;33m,\u001b[0m \u001b[1;36m3\u001b[0m\u001b[1;33m)\u001b[0m\u001b[1;33m\u001b[0m\u001b[1;33m\u001b[0m\u001b[0m\n\u001b[0m",
      "\u001b[1;32m<ipython-input-45-db17887c204f>\u001b[0m in \u001b[0;36mtrapezioPlot\u001b[1;34m(func, x_o, x_f, n)\u001b[0m\n\u001b[0;32m      6\u001b[0m         \u001b[0mx_h\u001b[0m \u001b[1;33m=\u001b[0m \u001b[0mx_i\u001b[0m \u001b[1;33m+\u001b[0m \u001b[0mh\u001b[0m\u001b[1;33m\u001b[0m\u001b[1;33m\u001b[0m\u001b[0m\n\u001b[0;32m      7\u001b[0m         dados = pd.DataFrame({'x': [x_i, x_i + h],\n\u001b[1;32m----> 8\u001b[1;33m                               'y': [evalf(func, subs={x: x_i}), evalf(func, subs={x: x_h})]})\n\u001b[0m\u001b[0;32m      9\u001b[0m         \u001b[0mreta\u001b[0m \u001b[1;33m=\u001b[0m \u001b[0minterpoladoLagrange\u001b[0m\u001b[1;33m(\u001b[0m\u001b[0mdados\u001b[0m\u001b[1;33m[\u001b[0m\u001b[1;34m'x'\u001b[0m\u001b[1;33m]\u001b[0m\u001b[1;33m,\u001b[0m \u001b[0mdados\u001b[0m\u001b[1;33m[\u001b[0m\u001b[1;34m'y'\u001b[0m\u001b[1;33m]\u001b[0m\u001b[1;33m)\u001b[0m\u001b[1;33m\u001b[0m\u001b[1;33m\u001b[0m\u001b[0m\n\u001b[0;32m     10\u001b[0m         \u001b[0mgraficoPlot\u001b[0m\u001b[1;33m(\u001b[0m\u001b[0mreta\u001b[0m\u001b[1;33m,\u001b[0m \u001b[0mx_i\u001b[0m\u001b[1;33m,\u001b[0m \u001b[0mx_i\u001b[0m \u001b[1;33m+\u001b[0m \u001b[0mh\u001b[0m\u001b[1;33m)\u001b[0m\u001b[1;33m\u001b[0m\u001b[1;33m\u001b[0m\u001b[0m\n",
      "\u001b[1;31mTypeError\u001b[0m: 'module' object is not callable"
     ]
    }
   ],
   "source": [
    "trapezioPlot(func, 2, 4, 3)"
   ]
  },
  {
   "cell_type": "code",
   "execution_count": null,
   "metadata": {},
   "outputs": [],
   "source": []
  }
 ]
}