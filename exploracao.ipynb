{
 "metadata": {
  "language_info": {
   "codemirror_mode": {
    "name": "ipython",
    "version": 3
   },
   "file_extension": ".py",
   "mimetype": "text/x-python",
   "name": "python",
   "nbconvert_exporter": "python",
   "pygments_lexer": "ipython3",
   "version": "3.8.3-final"
  },
  "orig_nbformat": 2,
  "kernelspec": {
   "name": "python3",
   "display_name": "Python 3"
  }
 },
 "nbformat": 4,
 "nbformat_minor": 2,
 "cells": [
  {
   "source": [
    "import pandas as pd\n",
    "import numpy as np\n",
    "import matplotlib.pyplot as plt\n",
    "from sympy import *\n",
    "from pylab import rcParams\n"
   ],
   "cell_type": "code",
   "metadata": {},
   "execution_count": 24,
   "outputs": []
  },
  {
   "cell_type": "code",
   "execution_count": 86,
   "metadata": {},
   "outputs": [],
   "source": [
    "#Tamanho plot\n",
    "rcParams['figure.figsize'] = 17, 9\n",
    "\n",
    "x, w = symbols('x w')"
   ]
  },
  {
   "cell_type": "code",
   "execution_count": 37,
   "metadata": {},
   "outputs": [],
   "source": [
    "def graficoPlot(func, x_o, x_f):\n",
    "    fig, ax = plt.subplots()\n",
    "\n",
    "    xx = np.linspace(x_o, x_f, 1000)\n",
    "    yy = lambdify(x, func, \"numpy\")(xx)\n",
    "    ax.plot(xx, np.transpose(yy))\n",
    "\n",
    "    ax.set_title('Função - {}'.format(str(func)))\n",
    "    ax.set_ylabel('y')\n",
    "    ax.set_xlabel('x')"
   ]
  },
  {
   "cell_type": "code",
   "execution_count": 60,
   "metadata": {},
   "outputs": [],
   "source": [
    "def interpoladoLagrange(x, y):\n",
    "    poli = 0*w \n",
    "    for i in range(len(x)):\n",
    "        Li = 1 + 0*w\n",
    "        for j in x:\n",
    "            if j != x[i]:\n",
    "                Li = Li * ((w - j)/(x[i] - j))\n",
    "        poli = poli + y[i] * Li\n",
    "    return expand(poli)"
   ]
  },
  {
   "cell_type": "code",
   "execution_count": 95,
   "metadata": {},
   "outputs": [],
   "source": [
    "def trapezioPlot(func, x_o, x_f, n):\n",
    "    fig, ax = plt.subplots()\n",
    "\n",
    "    xxFunc = np.linspace(x_o, x_f, n*1000)\n",
    "    yyFunc = lambdify(x, func, \"numpy\")(xxFunc)\n",
    "    ax.plot(xxFunc, np.transpose(yyFunc))\n",
    "\n",
    "    ax.set_title('Função - {}'.format(str(func)))\n",
    "    ax.set_ylabel('y')\n",
    "    ax.set_xlabel('x')\n",
    "\n",
    "    h = (x_f - x_o)/n\n",
    "    x_i = x_o\n",
    "    for i in range(n):\n",
    "        x_h = x_i + h\n",
    "        \n",
    "        dados = pd.DataFrame({'x': [x_i, x_i + h],\n",
    "                              'y': [(func.subs(x, x_i)).evalf(), (func.subs(x, x_h)).evalf()]})\n",
    "        reta = interpoladoLagrange(dados['x'], dados['y'])\n",
    "        \n",
    "        xx = np.linspace(x_i, x_h, 1000)\n",
    "        yy = lambdify(w, reta, \"numpy\")(xx)\n",
    "        ax.plot(xx, np.transpose(yy), color='#555555')\n",
    "        ax.fill_between(xx, yy, 0, alpha=0.20, color='#555555')\n",
    "\n",
    "        yyFunc_fill = np.split(yyFunc, n)[i]\n",
    "        ax.fill_between(xx, yy, yyFunc_fill, alpha=0.50, color='#555555')\n",
    "        ax.vlines(x_i, 0, (func.subs(x, x_i)).evalf(), linestyles='dashed', color='#555555')\n",
    "        ax.vlines(x_h, 0, (func.subs(x, x_h)).evalf(), linestyles='dashed', color='#555555')\n",
    "        x_i = x_i + h\n"
   ]
  },
  {
   "cell_type": "code",
   "execution_count": 113,
   "metadata": {},
   "outputs": [],
   "source": [
    "def calculoArea(func, x_o, x_f, n):\n",
    "    area = 0\n",
    "    h = (x_f - x_o)/n\n",
    "    x_i = x_o\n",
    "    for i in range(n):\n",
    "        area = area + (func.subs(x, x_i).evalf() + func.subs(x, x_i + h).evalf())*h/2\n",
    "        x_i = x_i + h\n",
    "    return area\n"
   ]
  },
  {
   "cell_type": "code",
   "execution_count": 107,
   "metadata": {},
   "outputs": [],
   "source": [
    "def calculoErro(func, x_o, x_f, n):\n",
    "    h = (x_f - x_o)/n\n",
    "    \n",
    "    diff_2 = diff(diff(func, x), x)\n",
    "    xx = np.linspace(x_o, x_f, 1000)\n",
    "    yy = lambdify(x, diff_2, \"numpy\")(xx)\n",
    "    M_2 = max(yy)\n",
    "\n",
    "    erro = n*M_2*h**3/12\n",
    "    return erro"
   ]
  },
  {
   "cell_type": "code",
   "execution_count": 116,
   "metadata": {},
   "outputs": [],
   "source": [
    "def calculoN(func, x_o, x_f, erro):\n",
    "    diff_2 = diff(diff(func, x), x)\n",
    "    xx = np.linspace(x_o, x_f, 1000)\n",
    "    yy = lambdify(x, diff_2, \"numpy\")(xx)\n",
    "    M_2 = max(yy)\n",
    "\n",
    "    n = np.sqrt((M_2*(x_f - x_o)**3)/(12*erro))\n",
    "    return np.ceil(n)"
   ]
  }
 ]
}